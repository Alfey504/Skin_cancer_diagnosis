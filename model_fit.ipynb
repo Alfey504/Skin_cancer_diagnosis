{
 "cells": [
  {
   "cell_type": "code",
   "execution_count": 8,
   "metadata": {},
   "outputs": [],
   "source": [
    "\n",
    "from tensorflow import keras\n",
    "from keras.utils.np_utils import to_categorical # used for converting labels to one-hot-encoding\n",
    "from tensorflow.keras.models import Sequential\n",
    "from tensorflow.keras.layers import Dense, Dropout, Flatten, Conv2D, MaxPool2D\n",
    "from tensorflow.keras import backend as K\n",
    "import itertools\n",
    "from tensorflow.python.keras.layers.normalization import BatchNormalization\n",
    "\n",
    "from tensorflow.keras.optimizers import Adam\n",
    "from keras.preprocessing.image import ImageDataGenerator\n",
    "from tensorflow.keras.callbacks import ReduceLROnPlateau\n",
    "from sklearn.model_selection import train_test_split\n",
    "\n",
    "import numpy as np\n",
    "import pandas as pd"
   ]
  },
  {
   "cell_type": "code",
   "execution_count": 2,
   "metadata": {},
   "outputs": [],
   "source": [
    "epochs = 50 \n",
    "batch_size = 10"
   ]
  },
  {
   "cell_type": "code",
   "execution_count": 3,
   "metadata": {},
   "outputs": [],
   "source": [
    "x_train = np.load(\"loaded_data/x_train.npy\")\n",
    "y_train = np.load(\"loaded_data/y_train.npy\")\n",
    "\n",
    "x_validate = np.load(\"loaded_data/x_validate.npy\")\n",
    "y_validate = np.load(\"loaded_data/y_validate.npy\")\n",
    "\n",
    "x_test = np.load(\"loaded_data/x_test.npy\")\n",
    "y_test = np.load(\"loaded_data/y_test.npy\")"
   ]
  },
  {
   "cell_type": "code",
   "execution_count": 4,
   "metadata": {},
   "outputs": [],
   "source": [
    "datagen = ImageDataGenerator(\n",
    "    \n",
    "        featurewise_center=False,  # set input mean to 0 over the dataset\n",
    "        samplewise_center=False,  # set each sample mean to 0\n",
    "        featurewise_std_normalization=False,  # divide inputs by std of the dataset\n",
    "        samplewise_std_normalization=False,  # divide each input by its std\n",
    "        zca_whitening=False,  # apply ZCA whitening\n",
    "        rotation_range=10,  # randomly rotate images in the range (degrees, 0 to 180)\n",
    "        zoom_range = 0.1, # Randomly zoom image \n",
    "        width_shift_range=0.1,  # randomly shift images horizontally (fraction of total width)\n",
    "        height_shift_range=0.1,  # randomly shift images vertically (fraction of total height)\n",
    "        horizontal_flip=False,  # randomly flip images\n",
    "        vertical_flip=False\n",
    "    \n",
    ")  # randomly flip images\n",
    "\n",
    "datagen.fit(x_train)"
   ]
  },
  {
   "cell_type": "code",
   "execution_count": 5,
   "metadata": {},
   "outputs": [],
   "source": [
    "model = keras.models.load_model(\"models/model_init.h5\")"
   ]
  },
  {
   "cell_type": "code",
   "execution_count": 6,
   "metadata": {},
   "outputs": [],
   "source": [
    "learning_rate_reduction = ReduceLROnPlateau(monitor='val_acc', \n",
    "                                            patience=3, \n",
    "                                            verbose=1, \n",
    "                                            factor=0.5, \n",
    "                                            min_lr=0.00001)"
   ]
  },
  {
   "cell_type": "code",
   "execution_count": 7,
   "metadata": {
    "scrolled": false
   },
   "outputs": [
    {
     "name": "stdout",
     "output_type": "stream",
     "text": [
      "WARNING:tensorflow:From <ipython-input-7-b36dfc5ecc8e>:7: Model.fit_generator (from tensorflow.python.keras.engine.training) is deprecated and will be removed in a future version.\n",
      "Instructions for updating:\n",
      "Please use Model.fit, which supports generators.\n",
      "WARNING:tensorflow:sample_weight modes were coerced from\n",
      "  ...\n",
      "    to  \n",
      "  ['...']\n",
      "Train for 721 steps, validate on 802 samples\n",
      "Epoch 1/50\n",
      "720/721 [============================>.] - ETA: 0s - loss: 1.0122 - accuracy: 0.6658WARNING:tensorflow:Reduce LR on plateau conditioned on metric `val_acc` which is not available. Available metrics are: loss,accuracy,val_loss,val_accuracy,lr\n",
      "721/721 [==============================] - 149s 207ms/step - loss: 1.0119 - accuracy: 0.6659 - val_loss: 0.8922 - val_accuracy: 0.6808\n",
      "Epoch 2/50\n",
      "720/721 [============================>.] - ETA: 0s - loss: 0.9050 - accuracy: 0.6707WARNING:tensorflow:Reduce LR on plateau conditioned on metric `val_acc` which is not available. Available metrics are: loss,accuracy,val_loss,val_accuracy,lr\n",
      "721/721 [==============================] - 137s 190ms/step - loss: 0.9052 - accuracy: 0.6706 - val_loss: 0.9043 - val_accuracy: 0.6858\n",
      "Epoch 3/50\n",
      "720/721 [============================>.] - ETA: 0s - loss: 0.8755 - accuracy: 0.6811WARNING:tensorflow:Reduce LR on plateau conditioned on metric `val_acc` which is not available. Available metrics are: loss,accuracy,val_loss,val_accuracy,lr\n",
      "721/721 [==============================] - 134s 186ms/step - loss: 0.8763 - accuracy: 0.6810 - val_loss: 0.8233 - val_accuracy: 0.7095\n",
      "Epoch 4/50\n",
      "720/721 [============================>.] - ETA: 0s - loss: 0.8421 - accuracy: 0.6890WARNING:tensorflow:Reduce LR on plateau conditioned on metric `val_acc` which is not available. Available metrics are: loss,accuracy,val_loss,val_accuracy,lr\n",
      "721/721 [==============================] - 134s 185ms/step - loss: 0.8424 - accuracy: 0.6890 - val_loss: 0.7915 - val_accuracy: 0.7020\n",
      "Epoch 5/50\n",
      "720/721 [============================>.] - ETA: 0s - loss: 0.8272 - accuracy: 0.6990WARNING:tensorflow:Reduce LR on plateau conditioned on metric `val_acc` which is not available. Available metrics are: loss,accuracy,val_loss,val_accuracy,lr\n",
      "721/721 [==============================] - 135s 187ms/step - loss: 0.8277 - accuracy: 0.6989 - val_loss: 0.7984 - val_accuracy: 0.7145\n",
      "Epoch 6/50\n",
      "720/721 [============================>.] - ETA: 0s - loss: 0.8020 - accuracy: 0.7086WARNING:tensorflow:Reduce LR on plateau conditioned on metric `val_acc` which is not available. Available metrics are: loss,accuracy,val_loss,val_accuracy,lr\n",
      "721/721 [==============================] - 133s 185ms/step - loss: 0.8018 - accuracy: 0.7086 - val_loss: 0.7778 - val_accuracy: 0.6995\n",
      "Epoch 7/50\n",
      "720/721 [============================>.] - ETA: 0s - loss: 0.7873 - accuracy: 0.7142WARNING:tensorflow:Reduce LR on plateau conditioned on metric `val_acc` which is not available. Available metrics are: loss,accuracy,val_loss,val_accuracy,lr\n",
      "721/721 [==============================] - 132s 183ms/step - loss: 0.7890 - accuracy: 0.7139 - val_loss: 0.7420 - val_accuracy: 0.7369\n",
      "Epoch 8/50\n",
      "720/721 [============================>.] - ETA: 0s - loss: 0.7777 - accuracy: 0.7156WARNING:tensorflow:Reduce LR on plateau conditioned on metric `val_acc` which is not available. Available metrics are: loss,accuracy,val_loss,val_accuracy,lr\n",
      "721/721 [==============================] - 133s 184ms/step - loss: 0.7777 - accuracy: 0.7155 - val_loss: 0.7193 - val_accuracy: 0.7332\n",
      "Epoch 9/50\n",
      "720/721 [============================>.] - ETA: 0s - loss: 0.7596 - accuracy: 0.7250WARNING:tensorflow:Reduce LR on plateau conditioned on metric `val_acc` which is not available. Available metrics are: loss,accuracy,val_loss,val_accuracy,lr\n",
      "721/721 [==============================] - 134s 185ms/step - loss: 0.7593 - accuracy: 0.7251 - val_loss: 0.7240 - val_accuracy: 0.7519\n",
      "Epoch 10/50\n",
      "720/721 [============================>.] - ETA: 0s - loss: 0.7543 - accuracy: 0.7232WARNING:tensorflow:Reduce LR on plateau conditioned on metric `val_acc` which is not available. Available metrics are: loss,accuracy,val_loss,val_accuracy,lr\n",
      "721/721 [==============================] - 133s 185ms/step - loss: 0.7537 - accuracy: 0.7234 - val_loss: 0.7051 - val_accuracy: 0.7431\n",
      "Epoch 11/50\n",
      "720/721 [============================>.] - ETA: 0s - loss: 0.7573 - accuracy: 0.7289WARNING:tensorflow:Reduce LR on plateau conditioned on metric `val_acc` which is not available. Available metrics are: loss,accuracy,val_loss,val_accuracy,lr\n",
      "721/721 [==============================] - 134s 185ms/step - loss: 0.7569 - accuracy: 0.7290 - val_loss: 0.6868 - val_accuracy: 0.7506\n",
      "Epoch 12/50\n",
      "720/721 [============================>.] - ETA: 0s - loss: 0.7422 - accuracy: 0.7294WARNING:tensorflow:Reduce LR on plateau conditioned on metric `val_acc` which is not available. Available metrics are: loss,accuracy,val_loss,val_accuracy,lr\n",
      "721/721 [==============================] - 135s 187ms/step - loss: 0.7419 - accuracy: 0.7294 - val_loss: 0.6863 - val_accuracy: 0.7531\n",
      "Epoch 13/50\n",
      "720/721 [============================>.] - ETA: 0s - loss: 0.7360 - accuracy: 0.7343WARNING:tensorflow:Reduce LR on plateau conditioned on metric `val_acc` which is not available. Available metrics are: loss,accuracy,val_loss,val_accuracy,lr\n",
      "721/721 [==============================] - 140s 194ms/step - loss: 0.7356 - accuracy: 0.7343 - val_loss: 0.7094 - val_accuracy: 0.7469\n",
      "Epoch 14/50\n",
      "720/721 [============================>.] - ETA: 0s - loss: 0.7416 - accuracy: 0.7386WARNING:tensorflow:Reduce LR on plateau conditioned on metric `val_acc` which is not available. Available metrics are: loss,accuracy,val_loss,val_accuracy,lr\n",
      "721/721 [==============================] - 140s 194ms/step - loss: 0.7413 - accuracy: 0.7388 - val_loss: 0.6839 - val_accuracy: 0.7494\n",
      "Epoch 15/50\n",
      "720/721 [============================>.] - ETA: 0s - loss: 0.7152 - accuracy: 0.7400WARNING:tensorflow:Reduce LR on plateau conditioned on metric `val_acc` which is not available. Available metrics are: loss,accuracy,val_loss,val_accuracy,lr\n",
      "721/721 [==============================] - 141s 195ms/step - loss: 0.7154 - accuracy: 0.7397 - val_loss: 0.6599 - val_accuracy: 0.7618\n",
      "Epoch 16/50\n",
      "720/721 [============================>.] - ETA: 0s - loss: 0.7101 - accuracy: 0.7431WARNING:tensorflow:Reduce LR on plateau conditioned on metric `val_acc` which is not available. Available metrics are: loss,accuracy,val_loss,val_accuracy,lr\n",
      "721/721 [==============================] - 134s 186ms/step - loss: 0.7102 - accuracy: 0.7429 - val_loss: 0.6622 - val_accuracy: 0.7519\n",
      "Epoch 17/50\n",
      "720/721 [============================>.] - ETA: 0s - loss: 0.6998 - accuracy: 0.7454WARNING:tensorflow:Reduce LR on plateau conditioned on metric `val_acc` which is not available. Available metrics are: loss,accuracy,val_loss,val_accuracy,lr\n",
      "721/721 [==============================] - 134s 186ms/step - loss: 0.6999 - accuracy: 0.7456 - val_loss: 0.6639 - val_accuracy: 0.7544\n",
      "Epoch 18/50\n",
      "720/721 [============================>.] - ETA: 0s - loss: 0.7038 - accuracy: 0.7365WARNING:tensorflow:Reduce LR on plateau conditioned on metric `val_acc` which is not available. Available metrics are: loss,accuracy,val_loss,val_accuracy,lr\n",
      "721/721 [==============================] - 134s 186ms/step - loss: 0.7034 - accuracy: 0.7366 - val_loss: 0.6679 - val_accuracy: 0.7718\n",
      "Epoch 19/50\n",
      "720/721 [============================>.] - ETA: 0s - loss: 0.7278 - accuracy: 0.7351WARNING:tensorflow:Reduce LR on plateau conditioned on metric `val_acc` which is not available. Available metrics are: loss,accuracy,val_loss,val_accuracy,lr\n",
      "721/721 [==============================] - 134s 186ms/step - loss: 0.7274 - accuracy: 0.7354 - val_loss: 0.6673 - val_accuracy: 0.7531\n",
      "Epoch 20/50\n",
      "720/721 [============================>.] - ETA: 0s - loss: 0.6849 - accuracy: 0.7447WARNING:tensorflow:Reduce LR on plateau conditioned on metric `val_acc` which is not available. Available metrics are: loss,accuracy,val_loss,val_accuracy,lr\n",
      "721/721 [==============================] - 133s 185ms/step - loss: 0.6850 - accuracy: 0.7447 - val_loss: 0.6401 - val_accuracy: 0.7556\n",
      "Epoch 21/50\n"
     ]
    },
    {
     "name": "stdout",
     "output_type": "stream",
     "text": [
      "720/721 [============================>.] - ETA: 0s - loss: 0.6902 - accuracy: 0.7454WARNING:tensorflow:Reduce LR on plateau conditioned on metric `val_acc` which is not available. Available metrics are: loss,accuracy,val_loss,val_accuracy,lr\n",
      "721/721 [==============================] - 133s 184ms/step - loss: 0.6897 - accuracy: 0.7455 - val_loss: 0.6760 - val_accuracy: 0.7656\n",
      "Epoch 22/50\n",
      "720/721 [============================>.] - ETA: 0s - loss: 0.6984 - accuracy: 0.7433 ETA: 1s - loss: 0.6983 - accuraWARNING:tensorflow:Reduce LR on plateau conditioned on metric `val_acc` which is not available. Available metrics are: loss,accuracy,val_loss,val_accuracy,lr\n",
      "721/721 [==============================] - 132s 183ms/step - loss: 0.6979 - accuracy: 0.7437 - val_loss: 0.6810 - val_accuracy: 0.7556\n",
      "Epoch 23/50\n",
      "720/721 [============================>.] - ETA: 0s - loss: 0.6884 - accuracy: 0.7460WARNING:tensorflow:Reduce LR on plateau conditioned on metric `val_acc` which is not available. Available metrics are: loss,accuracy,val_loss,val_accuracy,lr\n",
      "721/721 [==============================] - 132s 184ms/step - loss: 0.6883 - accuracy: 0.7458 - val_loss: 0.6518 - val_accuracy: 0.7544\n",
      "Epoch 24/50\n",
      "720/721 [============================>.] - ETA: 0s - loss: 0.6839 - accuracy: 0.7458WARNING:tensorflow:Reduce LR on plateau conditioned on metric `val_acc` which is not available. Available metrics are: loss,accuracy,val_loss,val_accuracy,lr\n",
      "721/721 [==============================] - 132s 184ms/step - loss: 0.6837 - accuracy: 0.7459 - val_loss: 0.6405 - val_accuracy: 0.7569\n",
      "Epoch 25/50\n",
      "720/721 [============================>.] - ETA: 0s - loss: 0.6732 - accuracy: 0.7500WARNING:tensorflow:Reduce LR on plateau conditioned on metric `val_acc` which is not available. Available metrics are: loss,accuracy,val_loss,val_accuracy,lr\n",
      "721/721 [==============================] - 135s 188ms/step - loss: 0.6737 - accuracy: 0.7498 - val_loss: 0.6564 - val_accuracy: 0.7581\n",
      "Epoch 26/50\n",
      "720/721 [============================>.] - ETA: 0s - loss: 0.6746 - accuracy: 0.7553WARNING:tensorflow:Reduce LR on plateau conditioned on metric `val_acc` which is not available. Available metrics are: loss,accuracy,val_loss,val_accuracy,lr\n",
      "721/721 [==============================] - 133s 184ms/step - loss: 0.6743 - accuracy: 0.7555 - val_loss: 0.6358 - val_accuracy: 0.7556\n",
      "Epoch 27/50\n",
      "720/721 [============================>.] - ETA: 0s - loss: 0.6708 - accuracy: 0.7513WARNING:tensorflow:Reduce LR on plateau conditioned on metric `val_acc` which is not available. Available metrics are: loss,accuracy,val_loss,val_accuracy,lr\n",
      "721/721 [==============================] - 133s 184ms/step - loss: 0.6707 - accuracy: 0.7513 - val_loss: 0.6569 - val_accuracy: 0.7581\n",
      "Epoch 28/50\n",
      "720/721 [============================>.] - ETA: 0s - loss: 0.6593 - accuracy: 0.7603WARNING:tensorflow:Reduce LR on plateau conditioned on metric `val_acc` which is not available. Available metrics are: loss,accuracy,val_loss,val_accuracy,lr\n",
      "721/721 [==============================] - 133s 184ms/step - loss: 0.6593 - accuracy: 0.7602 - val_loss: 0.6392 - val_accuracy: 0.7581\n",
      "Epoch 29/50\n",
      "720/721 [============================>.] - ETA: 0s - loss: 0.6572 - accuracy: 0.7538WARNING:tensorflow:Reduce LR on plateau conditioned on metric `val_acc` which is not available. Available metrics are: loss,accuracy,val_loss,val_accuracy,lr\n",
      "721/721 [==============================] - 133s 184ms/step - loss: 0.6583 - accuracy: 0.7535 - val_loss: 0.6533 - val_accuracy: 0.7481\n",
      "Epoch 30/50\n",
      "720/721 [============================>.] - ETA: 0s - loss: 0.6705 - accuracy: 0.7518WARNING:tensorflow:Reduce LR on plateau conditioned on metric `val_acc` which is not available. Available metrics are: loss,accuracy,val_loss,val_accuracy,lr\n",
      "721/721 [==============================] - 131s 182ms/step - loss: 0.6703 - accuracy: 0.7520 - val_loss: 0.6544 - val_accuracy: 0.7606\n",
      "Epoch 31/50\n",
      "720/721 [============================>.] - ETA: 0s - loss: 0.6984 - accuracy: 0.7528 - ETA: 36s -WARNING:tensorflow:Reduce LR on plateau conditioned on metric `val_acc` which is not available. Available metrics are: loss,accuracy,val_loss,val_accuracy,lr\n",
      "721/721 [==============================] - 132s 182ms/step - loss: 0.6986 - accuracy: 0.7526 - val_loss: 0.6457 - val_accuracy: 0.7668\n",
      "Epoch 32/50\n",
      "720/721 [============================>.] - ETA: 0s - loss: 0.6652 - accuracy: 0.7518WARNING:tensorflow:Reduce LR on plateau conditioned on metric `val_acc` which is not available. Available metrics are: loss,accuracy,val_loss,val_accuracy,lr\n",
      "721/721 [==============================] - 133s 185ms/step - loss: 0.6650 - accuracy: 0.7519 - val_loss: 0.6394 - val_accuracy: 0.7743\n",
      "Epoch 33/50\n",
      "720/721 [============================>.] - ETA: 0s - loss: 0.6437 - accuracy: 0.7610WARNING:tensorflow:Reduce LR on plateau conditioned on metric `val_acc` which is not available. Available metrics are: loss,accuracy,val_loss,val_accuracy,lr\n",
      "721/721 [==============================] - 133s 184ms/step - loss: 0.6440 - accuracy: 0.7609 - val_loss: 0.6300 - val_accuracy: 0.7718\n",
      "Epoch 34/50\n",
      "720/721 [============================>.] - ETA: 0s - loss: 0.6449 - accuracy: 0.7589WARNING:tensorflow:Reduce LR on plateau conditioned on metric `val_acc` which is not available. Available metrics are: loss,accuracy,val_loss,val_accuracy,lr\n",
      "721/721 [==============================] - 133s 184ms/step - loss: 0.6458 - accuracy: 0.7585 - val_loss: 0.7091 - val_accuracy: 0.7357\n",
      "Epoch 35/50\n",
      "720/721 [============================>.] - ETA: 0s - loss: 0.6554 - accuracy: 0.7565 ETA: 3s -WARNING:tensorflow:Reduce LR on plateau conditioned on metric `val_acc` which is not available. Available metrics are: loss,accuracy,val_loss,val_accuracy,lr\n",
      "721/721 [==============================] - 133s 185ms/step - loss: 0.6554 - accuracy: 0.7564 - val_loss: 0.6310 - val_accuracy: 0.7618\n",
      "Epoch 36/50\n",
      "720/721 [============================>.] - ETA: 0s - loss: 0.6405 - accuracy: 0.7642WARNING:tensorflow:Reduce LR on plateau conditioned on metric `val_acc` which is not available. Available metrics are: loss,accuracy,val_loss,val_accuracy,lr\n",
      "721/721 [==============================] - 133s 185ms/step - loss: 0.6402 - accuracy: 0.7644 - val_loss: 0.6103 - val_accuracy: 0.7656\n",
      "Epoch 37/50\n",
      "720/721 [============================>.] - ETA: 0s - loss: 0.6421 - accuracy: 0.7610WARNING:tensorflow:Reduce LR on plateau conditioned on metric `val_acc` which is not available. Available metrics are: loss,accuracy,val_loss,val_accuracy,lr\n",
      "721/721 [==============================] - 134s 186ms/step - loss: 0.6420 - accuracy: 0.7609 - val_loss: 0.6352 - val_accuracy: 0.7743\n",
      "Epoch 38/50\n",
      "720/721 [============================>.] - ETA: 0s - loss: 0.6539 - accuracy: 0.7644 ETA: 1s - loss: 0.6543 WARNING:tensorflow:Reduce LR on plateau conditioned on metric `val_acc` which is not available. Available metrics are: loss,accuracy,val_loss,val_accuracy,lr\n",
      "721/721 [==============================] - 134s 186ms/step - loss: 0.6538 - accuracy: 0.7644 - val_loss: 0.6553 - val_accuracy: 0.7494\n",
      "Epoch 39/50\n",
      "720/721 [============================>.] - ETA: 0s - loss: 0.6417 - accuracy: 0.7604WARNING:tensorflow:Reduce LR on plateau conditioned on metric `val_acc` which is not available. Available metrics are: loss,accuracy,val_loss,val_accuracy,lr\n",
      "721/721 [==============================] - 133s 185ms/step - loss: 0.6413 - accuracy: 0.7606 - val_loss: 0.6298 - val_accuracy: 0.7606\n",
      "Epoch 40/50\n",
      "720/721 [============================>.] - ETA: 0s - loss: 0.6448 - accuracy: 0.7607WARNING:tensorflow:Reduce LR on plateau conditioned on metric `val_acc` which is not available. Available metrics are: loss,accuracy,val_loss,val_accuracy,lr\n",
      "721/721 [==============================] - 134s 186ms/step - loss: 0.6445 - accuracy: 0.7607 - val_loss: 0.6737 - val_accuracy: 0.7618\n",
      "Epoch 41/50\n",
      "720/721 [============================>.] - ETA: 0s - loss: 0.6395 - accuracy: 0.7599WARNING:tensorflow:Reduce LR on plateau conditioned on metric `val_acc` which is not available. Available metrics are: loss,accuracy,val_loss,val_accuracy,lr\n",
      "721/721 [==============================] - 134s 185ms/step - loss: 0.6391 - accuracy: 0.7599 - val_loss: 0.6587 - val_accuracy: 0.7631\n"
     ]
    },
    {
     "name": "stdout",
     "output_type": "stream",
     "text": [
      "Epoch 42/50\n",
      "720/721 [============================>.] - ETA: 0s - loss: 0.6558 - accuracy: 0.7574WARNING:tensorflow:Reduce LR on plateau conditioned on metric `val_acc` which is not available. Available metrics are: loss,accuracy,val_loss,val_accuracy,lr\n",
      "721/721 [==============================] - 133s 184ms/step - loss: 0.6557 - accuracy: 0.7574 - val_loss: 0.6523 - val_accuracy: 0.7718\n",
      "Epoch 43/50\n",
      "720/721 [============================>.] - ETA: 0s - loss: 0.6286 - accuracy: 0.7632WARNING:tensorflow:Reduce LR on plateau conditioned on metric `val_acc` which is not available. Available metrics are: loss,accuracy,val_loss,val_accuracy,lr\n",
      "721/721 [==============================] - 132s 183ms/step - loss: 0.6288 - accuracy: 0.7631 - val_loss: 0.6221 - val_accuracy: 0.7781\n",
      "Epoch 44/50\n",
      "720/721 [============================>.] - ETA: 0s - loss: 0.6275 - accuracy: 0.7690WARNING:tensorflow:Reduce LR on plateau conditioned on metric `val_acc` which is not available. Available metrics are: loss,accuracy,val_loss,val_accuracy,lr\n",
      "721/721 [==============================] - 132s 183ms/step - loss: 0.6275 - accuracy: 0.7692 - val_loss: 0.6116 - val_accuracy: 0.7768\n",
      "Epoch 45/50\n",
      "720/721 [============================>.] - ETA: 0s - loss: 0.6376 - accuracy: 0.7713WARNING:tensorflow:Reduce LR on plateau conditioned on metric `val_acc` which is not available. Available metrics are: loss,accuracy,val_loss,val_accuracy,lr\n",
      "721/721 [==============================] - 132s 183ms/step - loss: 0.6382 - accuracy: 0.7709 - val_loss: 0.6192 - val_accuracy: 0.7743\n",
      "Epoch 46/50\n",
      "720/721 [============================>.] - ETA: 0s - loss: 0.6528 - accuracy: 0.7633WARNING:tensorflow:Reduce LR on plateau conditioned on metric `val_acc` which is not available. Available metrics are: loss,accuracy,val_loss,val_accuracy,lr\n",
      "721/721 [==============================] - 133s 184ms/step - loss: 0.6527 - accuracy: 0.7632 - val_loss: 0.6338 - val_accuracy: 0.7643\n",
      "Epoch 47/50\n",
      "720/721 [============================>.] - ETA: 0s - loss: 0.6269 - accuracy: 0.7672 ETA: 7s - loss: 0.626 - ETA: 5s - loss: 0.6 - ETA: 3s -WARNING:tensorflow:Reduce LR on plateau conditioned on metric `val_acc` which is not available. Available metrics are: loss,accuracy,val_loss,val_accuracy,lr\n",
      "721/721 [==============================] - 139s 193ms/step - loss: 0.6266 - accuracy: 0.7673 - val_loss: 0.6556 - val_accuracy: 0.7594\n",
      "Epoch 48/50\n",
      "720/721 [============================>.] - ETA: 0s - loss: 0.6182 - accuracy: 0.7735WARNING:tensorflow:Reduce LR on plateau conditioned on metric `val_acc` which is not available. Available metrics are: loss,accuracy,val_loss,val_accuracy,lr\n",
      "721/721 [==============================] - 132s 183ms/step - loss: 0.6188 - accuracy: 0.7732 - val_loss: 0.6552 - val_accuracy: 0.7544\n",
      "Epoch 49/50\n",
      "720/721 [============================>.] - ETA: 0s - loss: 0.6170 - accuracy: 0.7725WARNING:tensorflow:Reduce LR on plateau conditioned on metric `val_acc` which is not available. Available metrics are: loss,accuracy,val_loss,val_accuracy,lr\n",
      "721/721 [==============================] - 132s 183ms/step - loss: 0.6173 - accuracy: 0.7723 - val_loss: 0.6622 - val_accuracy: 0.7481\n",
      "Epoch 50/50\n",
      "720/721 [============================>.] - ETA: 0s - loss: 0.6325 - accuracy: 0.7708WARNING:tensorflow:Reduce LR on plateau conditioned on metric `val_acc` which is not available. Available metrics are: loss,accuracy,val_loss,val_accuracy,lr\n",
      "721/721 [==============================] - 132s 183ms/step - loss: 0.6324 - accuracy: 0.7709 - val_loss: 0.6248 - val_accuracy: 0.7681\n"
     ]
    }
   ],
   "source": [
    "# Fit the model\n",
    "epochs = 50 \n",
    "batch_size = 10\n",
    "history = model.fit_generator(datagen.flow(x_train,y_train, batch_size=batch_size),\n",
    "                              epochs = epochs, validation_data = (x_validate,y_validate),\n",
    "                              verbose = 1, steps_per_epoch=x_train.shape[0] // batch_size\n",
    "                              , callbacks=[learning_rate_reduction])"
   ]
  },
  {
   "cell_type": "code",
   "execution_count": 10,
   "metadata": {},
   "outputs": [],
   "source": [
    "hist = pd.DataFrame(history.history)   "
   ]
  },
  {
   "cell_type": "code",
   "execution_count": 11,
   "metadata": {},
   "outputs": [],
   "source": [
    "hist.to_pickle(\"models/history.pkl\")"
   ]
  },
  {
   "cell_type": "code",
   "execution_count": 13,
   "metadata": {},
   "outputs": [
    {
     "name": "stdout",
     "output_type": "stream",
     "text": [
      "{'loss': [1.0119300611554833, 0.905178539837283, 0.8763056054980017, 0.8424480875512267, 0.8277261767758576, 0.8018293569946917, 0.7889504643278545, 0.7776612301567639, 0.7593277211038811, 0.7537445566215231, 0.756896094335101, 0.7418771099077018, 0.7356390162744403, 0.7412834618648775, 0.71543434412114, 0.7102368995469792, 0.6999252138351931, 0.7034173924966758, 0.7273658490255371, 0.6849805263494982, 0.6896594542281472, 0.697876558586149, 0.6883480770515998, 0.683681947742324, 0.6736788191366295, 0.6742590347230021, 0.6707264023643096, 0.6593458373125399, 0.6583102744863202, 0.6702990628644596, 0.6986027265305988, 0.6649625261951027, 0.6440140419845028, 0.6458048991827958, 0.6553859037041003, 0.6402365801631165, 0.6420372638272719, 0.6537927790272376, 0.6412960970141355, 0.6445474146055407, 0.6391423741063612, 0.6556651083476087, 0.6288280842539011, 0.6275221119723935, 0.6382387405966671, 0.6526576372666928, 0.6265710927907703, 0.6188174996437213, 0.6172622386081953, 0.6324250923544582], 'accuracy': [0.66588074, 0.6705964, 0.6809986, 0.689043, 0.69889045, 0.70859915, 0.71386963, 0.715534, 0.72510403, 0.7234397, 0.7289875, 0.7294036, 0.734258, 0.738835, 0.7396671, 0.74285716, 0.74563104, 0.73661584, 0.73536754, 0.7446602, 0.7454924, 0.7436893, 0.74576974, 0.74590844, 0.749792, 0.7554785, 0.7513176, 0.7601942, 0.75353676, 0.7520111, 0.75256586, 0.7518724, 0.7608877, 0.75852984, 0.7564494, 0.76435506, 0.7608877, 0.76435506, 0.7606103, 0.760749, 0.7599168, 0.75742024, 0.7631068, 0.76920944, 0.7708738, 0.76324546, 0.7672677, 0.7732316, 0.7722607, 0.7708738], 'val_loss': [0.8921981578009979, 0.9043286326074244, 0.8233438177299024, 0.7915251575726227, 0.798426441420938, 0.7778056615457273, 0.7419575207548545, 0.7193060472347492, 0.7240437937347669, 0.7050633151409335, 0.686814995663719, 0.6862951153680273, 0.7093825445805405, 0.6838825431993775, 0.6599007933365734, 0.6621806158537876, 0.663863817503922, 0.6679231576491472, 0.6672841971205952, 0.6400724017337671, 0.6760266086927376, 0.6810286953636535, 0.6517524862490093, 0.6404737434593817, 0.6563782838551778, 0.6358019164449854, 0.6568555553209158, 0.6392434392115125, 0.6533316114819853, 0.6544436435226788, 0.6457332755041836, 0.6394461769229753, 0.630036024158435, 0.7090754496709367, 0.630975891861535, 0.61025195938542, 0.6351897415526193, 0.655293538704273, 0.6298383111110947, 0.673715403902709, 0.658681995363121, 0.6523380547836237, 0.6221473301177904, 0.6115841582751929, 0.6191944048514687, 0.6337569179361746, 0.6555733903127715, 0.6551962089806126, 0.6622121246796371, 0.6248329432490758], 'val_accuracy': [0.680798, 0.68578553, 0.7094763, 0.701995, 0.71446383, 0.6995013, 0.7369077, 0.7331671, 0.75187033, 0.7431421, 0.75062346, 0.7531172, 0.7468828, 0.74937654, 0.7618454, 0.75187033, 0.7543641, 0.7718204, 0.7531172, 0.75561094, 0.765586, 0.75561094, 0.7543641, 0.7568579, 0.75810474, 0.75561094, 0.75810474, 0.75810474, 0.74812967, 0.7605985, 0.7668329, 0.7743142, 0.7718204, 0.73566085, 0.7618454, 0.765586, 0.7743142, 0.74937654, 0.7605985, 0.7618454, 0.7630923, 0.7718204, 0.77805483, 0.77680796, 0.7743142, 0.76433915, 0.7593516, 0.7543641, 0.74812967, 0.7680798], 'lr': [0.001, 0.001, 0.001, 0.001, 0.001, 0.001, 0.001, 0.001, 0.001, 0.001, 0.001, 0.001, 0.001, 0.001, 0.001, 0.001, 0.001, 0.001, 0.001, 0.001, 0.001, 0.001, 0.001, 0.001, 0.001, 0.001, 0.001, 0.001, 0.001, 0.001, 0.001, 0.001, 0.001, 0.001, 0.001, 0.001, 0.001, 0.001, 0.001, 0.001, 0.001, 0.001, 0.001, 0.001, 0.001, 0.001, 0.001, 0.001, 0.001, 0.001]}\n"
     ]
    }
   ],
   "source": [
    "print(history.history)"
   ]
  },
  {
   "cell_type": "code",
   "execution_count": 14,
   "metadata": {},
   "outputs": [
    {
     "name": "stdout",
     "output_type": "stream",
     "text": [
      "        loss  accuracy  val_loss  val_accuracy     lr\n",
      "0   1.011930  0.665881  0.892198      0.680798  0.001\n",
      "1   0.905179  0.670596  0.904329      0.685786  0.001\n",
      "2   0.876306  0.680999  0.823344      0.709476  0.001\n",
      "3   0.842448  0.689043  0.791525      0.701995  0.001\n",
      "4   0.827726  0.698890  0.798426      0.714464  0.001\n",
      "5   0.801829  0.708599  0.777806      0.699501  0.001\n",
      "6   0.788950  0.713870  0.741958      0.736908  0.001\n",
      "7   0.777661  0.715534  0.719306      0.733167  0.001\n",
      "8   0.759328  0.725104  0.724044      0.751870  0.001\n",
      "9   0.753745  0.723440  0.705063      0.743142  0.001\n",
      "10  0.756896  0.728988  0.686815      0.750623  0.001\n",
      "11  0.741877  0.729404  0.686295      0.753117  0.001\n",
      "12  0.735639  0.734258  0.709383      0.746883  0.001\n",
      "13  0.741283  0.738835  0.683883      0.749377  0.001\n",
      "14  0.715434  0.739667  0.659901      0.761845  0.001\n",
      "15  0.710237  0.742857  0.662181      0.751870  0.001\n",
      "16  0.699925  0.745631  0.663864      0.754364  0.001\n",
      "17  0.703417  0.736616  0.667923      0.771820  0.001\n",
      "18  0.727366  0.735368  0.667284      0.753117  0.001\n",
      "19  0.684981  0.744660  0.640072      0.755611  0.001\n",
      "20  0.689659  0.745492  0.676027      0.765586  0.001\n",
      "21  0.697877  0.743689  0.681029      0.755611  0.001\n",
      "22  0.688348  0.745770  0.651752      0.754364  0.001\n",
      "23  0.683682  0.745908  0.640474      0.756858  0.001\n",
      "24  0.673679  0.749792  0.656378      0.758105  0.001\n",
      "25  0.674259  0.755479  0.635802      0.755611  0.001\n",
      "26  0.670726  0.751318  0.656856      0.758105  0.001\n",
      "27  0.659346  0.760194  0.639243      0.758105  0.001\n",
      "28  0.658310  0.753537  0.653332      0.748130  0.001\n",
      "29  0.670299  0.752011  0.654444      0.760598  0.001\n",
      "30  0.698603  0.752566  0.645733      0.766833  0.001\n",
      "31  0.664963  0.751872  0.639446      0.774314  0.001\n",
      "32  0.644014  0.760888  0.630036      0.771820  0.001\n",
      "33  0.645805  0.758530  0.709075      0.735661  0.001\n",
      "34  0.655386  0.756449  0.630976      0.761845  0.001\n",
      "35  0.640237  0.764355  0.610252      0.765586  0.001\n",
      "36  0.642037  0.760888  0.635190      0.774314  0.001\n",
      "37  0.653793  0.764355  0.655294      0.749377  0.001\n",
      "38  0.641296  0.760610  0.629838      0.760598  0.001\n",
      "39  0.644547  0.760749  0.673715      0.761845  0.001\n",
      "40  0.639142  0.759917  0.658682      0.763092  0.001\n",
      "41  0.655665  0.757420  0.652338      0.771820  0.001\n",
      "42  0.628828  0.763107  0.622147      0.778055  0.001\n",
      "43  0.627522  0.769209  0.611584      0.776808  0.001\n",
      "44  0.638239  0.770874  0.619194      0.774314  0.001\n",
      "45  0.652658  0.763245  0.633757      0.764339  0.001\n",
      "46  0.626571  0.767268  0.655573      0.759352  0.001\n",
      "47  0.618817  0.773232  0.655196      0.754364  0.001\n",
      "48  0.617262  0.772261  0.662212      0.748130  0.001\n",
      "49  0.632425  0.770874  0.624833      0.768080  0.001\n"
     ]
    }
   ],
   "source": [
    "print(hist)"
   ]
  },
  {
   "cell_type": "code",
   "execution_count": 15,
   "metadata": {},
   "outputs": [],
   "source": [
    "model.save(\"models/model_trained.h5\")"
   ]
  },
  {
   "cell_type": "code",
   "execution_count": null,
   "metadata": {},
   "outputs": [],
   "source": []
  }
 ],
 "metadata": {
  "kernelspec": {
   "display_name": "Python 3",
   "language": "python",
   "name": "python3"
  },
  "language_info": {
   "codemirror_mode": {
    "name": "ipython",
    "version": 3
   },
   "file_extension": ".py",
   "mimetype": "text/x-python",
   "name": "python",
   "nbconvert_exporter": "python",
   "pygments_lexer": "ipython3",
   "version": "3.6.10"
  }
 },
 "nbformat": 4,
 "nbformat_minor": 4
}
